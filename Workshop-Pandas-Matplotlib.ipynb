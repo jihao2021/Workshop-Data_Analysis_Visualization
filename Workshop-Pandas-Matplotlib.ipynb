{
 "cells": [
  {
   "cell_type": "code",
   "execution_count": 1,
   "id": "f3775a45-403d-4c83-b36a-4513080acd71",
   "metadata": {},
   "outputs": [
    {
     "name": "stderr",
     "output_type": "stream",
     "text": [
      "/tmp/SLURM_18745782/ipykernel_21338/2162656668.py:1: DeprecationWarning: \n",
      "Pyarrow will become a required dependency of pandas in the next major release of pandas (pandas 3.0),\n",
      "(to allow more performant data types, such as the Arrow string type, and better interoperability with other libraries)\n",
      "but was not found to be installed on your system.\n",
      "If this would cause problems for you,\n",
      "please provide us feedback at https://github.com/pandas-dev/pandas/issues/54466\n",
      "        \n",
      "  import pandas as pd\n"
     ]
    }
   ],
   "source": [
    "import pandas as pd\n",
    "import numpy as np"
   ]
  },
  {
   "cell_type": "code",
   "execution_count": 2,
   "id": "9893a563-c539-4691-9dd5-1488dd045742",
   "metadata": {},
   "outputs": [],
   "source": [
    "np.random.seed(1)"
   ]
  },
  {
   "cell_type": "markdown",
   "id": "ed99739a-e72f-439f-99e4-0c972907a8e5",
   "metadata": {},
   "source": [
    "Series and Dataframes\n",
    "\n",
    "Pandas actually has two data structures, Series and Dataframes. A Dataframe is a two dimensional data structure. It is comprised of rows and columns of data. A Series is the data structure for a single column of a dataframe. Certain pandas operations will return a Series as a standalone data structure.\n",
    "\n",
    "Both data structures also have an 'index' which uniquely identifies each row. By default, Pandas will assign an integer id as the index, however you can override this and set a column of your choosing as the index (does not have to be an integer) as long as all values in that column are unique."
   ]
  },
  {
   "cell_type": "markdown",
   "id": "15437ee4-6407-4862-8c52-310a591e942c",
   "metadata": {},
   "source": [
    "Series"
   ]
  },
  {
   "cell_type": "code",
   "execution_count": 3,
   "id": "d930aeb7-8c2a-42a9-b85f-fcf3ae44a813",
   "metadata": {},
   "outputs": [
    {
     "data": {
      "text/plain": [
       "0    0.417022\n",
       "1    0.720324\n",
       "2    0.000114\n",
       "3    0.302333\n",
       "4    0.146756\n",
       "dtype: float64"
      ]
     },
     "execution_count": 3,
     "metadata": {},
     "output_type": "execute_result"
    }
   ],
   "source": [
    "data = np.random.rand(5)\n",
    "pd.Series(data)"
   ]
  },
  {
   "cell_type": "code",
   "execution_count": 4,
   "id": "16ff3da6-a8b2-413f-854f-270b969e65b2",
   "metadata": {},
   "outputs": [
    {
     "data": {
      "text/plain": [
       "Astronomy    0.417022\n",
       "Geology      0.720324\n",
       "Economics    0.000114\n",
       "English      0.302333\n",
       "History      0.146756\n",
       "dtype: float64"
      ]
     },
     "execution_count": 4,
     "metadata": {},
     "output_type": "execute_result"
    }
   ],
   "source": [
    "pd.Series(data, index = ['Astronomy', 'Geology', 'Economics', 'English', 'History'])"
   ]
  },
  {
   "cell_type": "markdown",
   "id": "7324ed46-2cbb-4603-9037-ce5e150738d0",
   "metadata": {},
   "source": [
    "Dataframe"
   ]
  },
  {
   "cell_type": "code",
   "execution_count": 5,
   "id": "ea99aaeb-3d46-42f0-b673-0b43e5dd9bbd",
   "metadata": {},
   "outputs": [
    {
     "data": {
      "text/plain": [
       "array([[3.30000e-01, 4.87900e+03, 3.70000e+00, 8.80000e+01],\n",
       "       [4.87000e+00, 1.21040e+04, 8.90000e+00, 2.24700e+02],\n",
       "       [5.97000e+00, 1.27560e+04, 9.80000e+00, 3.65200e+02],\n",
       "       [6.42000e-01, 6.79200e+03, 3.70000e+00, 6.87000e+02],\n",
       "       [1.89800e+03, 1.42984e+05, 2.31000e+01, 4.33100e+03],\n",
       "       [5.68000e+02, 1.20536e+05, 9.00000e+00, 1.07470e+04],\n",
       "       [8.68000e+01, 5.11180e+04, 8.70000e+00, 3.05890e+04],\n",
       "       [1.02000e+02, 4.95280e+04, 1.10000e+01, 5.98000e+04]])"
      ]
     },
     "execution_count": 5,
     "metadata": {},
     "output_type": "execute_result"
    }
   ],
   "source": [
    "planets_data = np.array([[0.330, 4879, 3.7, 88.0],\n",
    "            [4.87, 12104, 8.9, 224.7],\n",
    "            [5.97, 12756, 9.8, 365.2 ],\n",
    "            [0.642, 6792, 3.7, 687.0],\n",
    "            [1898, 142984, 23.1, 4331],\n",
    "            [568, 120536, 9.0, 10747],\n",
    "            [86.8, 51118, 8.7, 30589],\n",
    "            [102, 49528, 11.0, 59800]])\n",
    "planets_data"
   ]
  },
  {
   "cell_type": "code",
   "execution_count": 6,
   "id": "522b6a26-3795-48bb-a887-0b30f1517ba4",
   "metadata": {},
   "outputs": [
    {
     "data": {
      "text/html": [
       "<div>\n",
       "<style scoped>\n",
       "    .dataframe tbody tr th:only-of-type {\n",
       "        vertical-align: middle;\n",
       "    }\n",
       "\n",
       "    .dataframe tbody tr th {\n",
       "        vertical-align: top;\n",
       "    }\n",
       "\n",
       "    .dataframe thead th {\n",
       "        text-align: right;\n",
       "    }\n",
       "</style>\n",
       "<table border=\"1\" class=\"dataframe\">\n",
       "  <thead>\n",
       "    <tr style=\"text-align: right;\">\n",
       "      <th></th>\n",
       "      <th>mass</th>\n",
       "      <th>diameter</th>\n",
       "      <th>gravity</th>\n",
       "      <th>period</th>\n",
       "    </tr>\n",
       "  </thead>\n",
       "  <tbody>\n",
       "    <tr>\n",
       "      <th>Mercury</th>\n",
       "      <td>0.330</td>\n",
       "      <td>4879.0</td>\n",
       "      <td>3.7</td>\n",
       "      <td>88.0</td>\n",
       "    </tr>\n",
       "    <tr>\n",
       "      <th>Venus</th>\n",
       "      <td>4.870</td>\n",
       "      <td>12104.0</td>\n",
       "      <td>8.9</td>\n",
       "      <td>224.7</td>\n",
       "    </tr>\n",
       "    <tr>\n",
       "      <th>Earth</th>\n",
       "      <td>5.970</td>\n",
       "      <td>12756.0</td>\n",
       "      <td>9.8</td>\n",
       "      <td>365.2</td>\n",
       "    </tr>\n",
       "    <tr>\n",
       "      <th>Mars</th>\n",
       "      <td>0.642</td>\n",
       "      <td>6792.0</td>\n",
       "      <td>3.7</td>\n",
       "      <td>687.0</td>\n",
       "    </tr>\n",
       "    <tr>\n",
       "      <th>Jupiter</th>\n",
       "      <td>1898.000</td>\n",
       "      <td>142984.0</td>\n",
       "      <td>23.1</td>\n",
       "      <td>4331.0</td>\n",
       "    </tr>\n",
       "    <tr>\n",
       "      <th>Saturn</th>\n",
       "      <td>568.000</td>\n",
       "      <td>120536.0</td>\n",
       "      <td>9.0</td>\n",
       "      <td>10747.0</td>\n",
       "    </tr>\n",
       "    <tr>\n",
       "      <th>Uranus</th>\n",
       "      <td>86.800</td>\n",
       "      <td>51118.0</td>\n",
       "      <td>8.7</td>\n",
       "      <td>30589.0</td>\n",
       "    </tr>\n",
       "    <tr>\n",
       "      <th>Neptune</th>\n",
       "      <td>102.000</td>\n",
       "      <td>49528.0</td>\n",
       "      <td>11.0</td>\n",
       "      <td>59800.0</td>\n",
       "    </tr>\n",
       "  </tbody>\n",
       "</table>\n",
       "</div>"
      ],
      "text/plain": [
       "             mass  diameter  gravity   period\n",
       "Mercury     0.330    4879.0      3.7     88.0\n",
       "Venus       4.870   12104.0      8.9    224.7\n",
       "Earth       5.970   12756.0      9.8    365.2\n",
       "Mars        0.642    6792.0      3.7    687.0\n",
       "Jupiter  1898.000  142984.0     23.1   4331.0\n",
       "Saturn    568.000  120536.0      9.0  10747.0\n",
       "Uranus     86.800   51118.0      8.7  30589.0\n",
       "Neptune   102.000   49528.0     11.0  59800.0"
      ]
     },
     "execution_count": 6,
     "metadata": {},
     "output_type": "execute_result"
    }
   ],
   "source": [
    "planets = pd.DataFrame(planets_data, \n",
    "                  columns=['mass', 'diameter', 'gravity', 'period'],\n",
    "                  index=['Mercury', 'Venus', 'Earth', 'Mars', 'Jupiter', 'Saturn','Uranus','Neptune'])\n",
    "planets"
   ]
  },
  {
   "cell_type": "markdown",
   "id": "b924c2d3-07a0-4595-9e49-147eeb5ce343",
   "metadata": {},
   "source": [
    "Data Ingestion"
   ]
  },
  {
   "cell_type": "code",
   "execution_count": 7,
   "id": "721f43ec-4535-42dd-8867-f82a07ba8e2e",
   "metadata": {},
   "outputs": [
    {
     "data": {
      "text/html": [
       "<div>\n",
       "<style scoped>\n",
       "    .dataframe tbody tr th:only-of-type {\n",
       "        vertical-align: middle;\n",
       "    }\n",
       "\n",
       "    .dataframe tbody tr th {\n",
       "        vertical-align: top;\n",
       "    }\n",
       "\n",
       "    .dataframe thead th {\n",
       "        text-align: right;\n",
       "    }\n",
       "</style>\n",
       "<table border=\"1\" class=\"dataframe\">\n",
       "  <thead>\n",
       "    <tr style=\"text-align: right;\">\n",
       "      <th></th>\n",
       "      <th>Type</th>\n",
       "      <th>Order from Sun</th>\n",
       "      <th>Diameter</th>\n",
       "      <th>Mass</th>\n",
       "    </tr>\n",
       "    <tr>\n",
       "      <th>Name</th>\n",
       "      <th></th>\n",
       "      <th></th>\n",
       "      <th></th>\n",
       "      <th></th>\n",
       "    </tr>\n",
       "  </thead>\n",
       "  <tbody>\n",
       "    <tr>\n",
       "      <th>Sun</th>\n",
       "      <td>Star</td>\n",
       "      <td>0</td>\n",
       "      <td>1392000.0</td>\n",
       "      <td>333000.00000</td>\n",
       "    </tr>\n",
       "    <tr>\n",
       "      <th>Mercury</th>\n",
       "      <td>Terrestrial planet</td>\n",
       "      <td>1</td>\n",
       "      <td>4878.0</td>\n",
       "      <td>0.05500</td>\n",
       "    </tr>\n",
       "    <tr>\n",
       "      <th>Venus</th>\n",
       "      <td>Terrestrial planet</td>\n",
       "      <td>2</td>\n",
       "      <td>12104.0</td>\n",
       "      <td>0.81500</td>\n",
       "    </tr>\n",
       "    <tr>\n",
       "      <th>Earth</th>\n",
       "      <td>Terrestrial planet</td>\n",
       "      <td>3</td>\n",
       "      <td>12756.0</td>\n",
       "      <td>1.00000</td>\n",
       "    </tr>\n",
       "    <tr>\n",
       "      <th>Mars</th>\n",
       "      <td>Terrestrial planet</td>\n",
       "      <td>4</td>\n",
       "      <td>6787.0</td>\n",
       "      <td>0.10700</td>\n",
       "    </tr>\n",
       "    <tr>\n",
       "      <th>Jupiter</th>\n",
       "      <td>Gas giant</td>\n",
       "      <td>6</td>\n",
       "      <td>142800.0</td>\n",
       "      <td>318.00000</td>\n",
       "    </tr>\n",
       "    <tr>\n",
       "      <th>Saturn</th>\n",
       "      <td>Gas giant</td>\n",
       "      <td>7</td>\n",
       "      <td>120000.0</td>\n",
       "      <td>95.00000</td>\n",
       "    </tr>\n",
       "    <tr>\n",
       "      <th>Uranus</th>\n",
       "      <td>Gas giant</td>\n",
       "      <td>8</td>\n",
       "      <td>51118.0</td>\n",
       "      <td>15.00000</td>\n",
       "    </tr>\n",
       "    <tr>\n",
       "      <th>Neptune</th>\n",
       "      <td>Gas giant</td>\n",
       "      <td>9</td>\n",
       "      <td>49528.0</td>\n",
       "      <td>17.00000</td>\n",
       "    </tr>\n",
       "    <tr>\n",
       "      <th>Ceres</th>\n",
       "      <td>Dwarf planet</td>\n",
       "      <td>5</td>\n",
       "      <td>974.6</td>\n",
       "      <td>0.00016</td>\n",
       "    </tr>\n",
       "    <tr>\n",
       "      <th>Pluto</th>\n",
       "      <td>Dwarf planet</td>\n",
       "      <td>10</td>\n",
       "      <td>2300.0</td>\n",
       "      <td>0.00200</td>\n",
       "    </tr>\n",
       "    <tr>\n",
       "      <th>Haumea</th>\n",
       "      <td>Dwarf planet</td>\n",
       "      <td>11</td>\n",
       "      <td>1300.0</td>\n",
       "      <td>0.00070</td>\n",
       "    </tr>\n",
       "    <tr>\n",
       "      <th>Makemake</th>\n",
       "      <td>Dwarf planet</td>\n",
       "      <td>12</td>\n",
       "      <td>1420.0</td>\n",
       "      <td>0.00067</td>\n",
       "    </tr>\n",
       "    <tr>\n",
       "      <th>Eris</th>\n",
       "      <td>Dwarf planet</td>\n",
       "      <td>13</td>\n",
       "      <td>2326.0</td>\n",
       "      <td>0.00280</td>\n",
       "    </tr>\n",
       "  </tbody>\n",
       "</table>\n",
       "</div>"
      ],
      "text/plain": [
       "                        Type  Order from Sun   Diameter          Mass\n",
       "Name                                                                 \n",
       "Sun                     Star               0  1392000.0  333000.00000\n",
       "Mercury   Terrestrial planet               1     4878.0       0.05500\n",
       "Venus     Terrestrial planet               2    12104.0       0.81500\n",
       "Earth     Terrestrial planet               3    12756.0       1.00000\n",
       "Mars      Terrestrial planet               4     6787.0       0.10700\n",
       "Jupiter            Gas giant               6   142800.0     318.00000\n",
       "Saturn             Gas giant               7   120000.0      95.00000\n",
       "Uranus             Gas giant               8    51118.0      15.00000\n",
       "Neptune            Gas giant               9    49528.0      17.00000\n",
       "Ceres           Dwarf planet               5      974.6       0.00016\n",
       "Pluto           Dwarf planet              10     2300.0       0.00200\n",
       "Haumea          Dwarf planet              11     1300.0       0.00070\n",
       "Makemake        Dwarf planet              12     1420.0       0.00067\n",
       "Eris            Dwarf planet              13     2326.0       0.00280"
      ]
     },
     "execution_count": 7,
     "metadata": {},
     "output_type": "execute_result"
    }
   ],
   "source": [
    "solar_system = pd.read_csv('solar_system_abbr.csv',index_col=0)\n",
    "solar_system"
   ]
  },
  {
   "cell_type": "code",
   "execution_count": 8,
   "id": "d14338a9-58ad-451e-8979-f0e439d8a192",
   "metadata": {},
   "outputs": [
    {
     "data": {
      "text/html": [
       "<div>\n",
       "<style scoped>\n",
       "    .dataframe tbody tr th:only-of-type {\n",
       "        vertical-align: middle;\n",
       "    }\n",
       "\n",
       "    .dataframe tbody tr th {\n",
       "        vertical-align: top;\n",
       "    }\n",
       "\n",
       "    .dataframe thead th {\n",
       "        text-align: right;\n",
       "    }\n",
       "</style>\n",
       "<table border=\"1\" class=\"dataframe\">\n",
       "  <thead>\n",
       "    <tr style=\"text-align: right;\">\n",
       "      <th></th>\n",
       "      <th>Order from Sun</th>\n",
       "      <th>Diameter</th>\n",
       "      <th>Mass</th>\n",
       "    </tr>\n",
       "  </thead>\n",
       "  <tbody>\n",
       "    <tr>\n",
       "      <th>count</th>\n",
       "      <td>14.0000</td>\n",
       "      <td>1.400000e+01</td>\n",
       "      <td>14.000000</td>\n",
       "    </tr>\n",
       "    <tr>\n",
       "      <th>mean</th>\n",
       "      <td>6.5000</td>\n",
       "      <td>1.285923e+05</td>\n",
       "      <td>23817.641666</td>\n",
       "    </tr>\n",
       "    <tr>\n",
       "      <th>std</th>\n",
       "      <td>4.1833</td>\n",
       "      <td>3.665235e+05</td>\n",
       "      <td>88988.845412</td>\n",
       "    </tr>\n",
       "    <tr>\n",
       "      <th>min</th>\n",
       "      <td>0.0000</td>\n",
       "      <td>9.746000e+02</td>\n",
       "      <td>0.000160</td>\n",
       "    </tr>\n",
       "    <tr>\n",
       "      <th>25%</th>\n",
       "      <td>3.2500</td>\n",
       "      <td>2.306500e+03</td>\n",
       "      <td>0.002200</td>\n",
       "    </tr>\n",
       "    <tr>\n",
       "      <th>50%</th>\n",
       "      <td>6.5000</td>\n",
       "      <td>9.445500e+03</td>\n",
       "      <td>0.461000</td>\n",
       "    </tr>\n",
       "    <tr>\n",
       "      <th>75%</th>\n",
       "      <td>9.7500</td>\n",
       "      <td>5.072050e+04</td>\n",
       "      <td>16.500000</td>\n",
       "    </tr>\n",
       "    <tr>\n",
       "      <th>max</th>\n",
       "      <td>13.0000</td>\n",
       "      <td>1.392000e+06</td>\n",
       "      <td>333000.000000</td>\n",
       "    </tr>\n",
       "  </tbody>\n",
       "</table>\n",
       "</div>"
      ],
      "text/plain": [
       "       Order from Sun      Diameter           Mass\n",
       "count         14.0000  1.400000e+01      14.000000\n",
       "mean           6.5000  1.285923e+05   23817.641666\n",
       "std            4.1833  3.665235e+05   88988.845412\n",
       "min            0.0000  9.746000e+02       0.000160\n",
       "25%            3.2500  2.306500e+03       0.002200\n",
       "50%            6.5000  9.445500e+03       0.461000\n",
       "75%            9.7500  5.072050e+04      16.500000\n",
       "max           13.0000  1.392000e+06  333000.000000"
      ]
     },
     "execution_count": 8,
     "metadata": {},
     "output_type": "execute_result"
    }
   ],
   "source": [
    "solar_system.describe()"
   ]
  },
  {
   "cell_type": "markdown",
   "id": "771de950-f8a9-4185-b337-18f2e99defb1",
   "metadata": {},
   "source": [
    "Data Cleaning"
   ]
  },
  {
   "cell_type": "code",
   "execution_count": 9,
   "id": "2bb2b600-f91d-447c-a25d-1f42c336f4c9",
   "metadata": {},
   "outputs": [],
   "source": [
    "data = np.array([[-0.349596, -2.017159 ],\n",
    " [9999,9999],\n",
    " [9999, 9999],\n",
    " [0.113889, 0.616122 ],\n",
    " [0.014707,  -1.731660],\n",
    " [9999, 9999],\n",
    " [1.233087, 0.720138],\n",
    " [9999,  9999],\n",
    " [9999, 9999],\n",
    " [9999, 9999]])"
   ]
  },
  {
   "cell_type": "code",
   "execution_count": 10,
   "id": "abf853d6-eebc-4cb6-8a38-25937b0940ac",
   "metadata": {},
   "outputs": [
    {
     "data": {
      "text/html": [
       "<div>\n",
       "<style scoped>\n",
       "    .dataframe tbody tr th:only-of-type {\n",
       "        vertical-align: middle;\n",
       "    }\n",
       "\n",
       "    .dataframe tbody tr th {\n",
       "        vertical-align: top;\n",
       "    }\n",
       "\n",
       "    .dataframe thead th {\n",
       "        text-align: right;\n",
       "    }\n",
       "</style>\n",
       "<table border=\"1\" class=\"dataframe\">\n",
       "  <thead>\n",
       "    <tr style=\"text-align: right;\">\n",
       "      <th></th>\n",
       "      <th>0</th>\n",
       "      <th>1</th>\n",
       "    </tr>\n",
       "  </thead>\n",
       "  <tbody>\n",
       "    <tr>\n",
       "      <th>0</th>\n",
       "      <td>-0.349596</td>\n",
       "      <td>-2.017159</td>\n",
       "    </tr>\n",
       "    <tr>\n",
       "      <th>1</th>\n",
       "      <td>9999.000000</td>\n",
       "      <td>9999.000000</td>\n",
       "    </tr>\n",
       "    <tr>\n",
       "      <th>2</th>\n",
       "      <td>9999.000000</td>\n",
       "      <td>9999.000000</td>\n",
       "    </tr>\n",
       "    <tr>\n",
       "      <th>3</th>\n",
       "      <td>0.113889</td>\n",
       "      <td>0.616122</td>\n",
       "    </tr>\n",
       "    <tr>\n",
       "      <th>4</th>\n",
       "      <td>0.014707</td>\n",
       "      <td>-1.731660</td>\n",
       "    </tr>\n",
       "    <tr>\n",
       "      <th>5</th>\n",
       "      <td>9999.000000</td>\n",
       "      <td>9999.000000</td>\n",
       "    </tr>\n",
       "    <tr>\n",
       "      <th>6</th>\n",
       "      <td>1.233087</td>\n",
       "      <td>0.720138</td>\n",
       "    </tr>\n",
       "    <tr>\n",
       "      <th>7</th>\n",
       "      <td>9999.000000</td>\n",
       "      <td>9999.000000</td>\n",
       "    </tr>\n",
       "    <tr>\n",
       "      <th>8</th>\n",
       "      <td>9999.000000</td>\n",
       "      <td>9999.000000</td>\n",
       "    </tr>\n",
       "    <tr>\n",
       "      <th>9</th>\n",
       "      <td>9999.000000</td>\n",
       "      <td>9999.000000</td>\n",
       "    </tr>\n",
       "  </tbody>\n",
       "</table>\n",
       "</div>"
      ],
      "text/plain": [
       "             0            1\n",
       "0    -0.349596    -2.017159\n",
       "1  9999.000000  9999.000000\n",
       "2  9999.000000  9999.000000\n",
       "3     0.113889     0.616122\n",
       "4     0.014707    -1.731660\n",
       "5  9999.000000  9999.000000\n",
       "6     1.233087     0.720138\n",
       "7  9999.000000  9999.000000\n",
       "8  9999.000000  9999.000000\n",
       "9  9999.000000  9999.000000"
      ]
     },
     "execution_count": 10,
     "metadata": {},
     "output_type": "execute_result"
    }
   ],
   "source": [
    "df = pd.DataFrame(data)\n",
    "df"
   ]
  },
  {
   "cell_type": "code",
   "execution_count": 11,
   "id": "4ac7e5b7-9581-43bc-9a90-f03ff7f1c9ea",
   "metadata": {},
   "outputs": [
    {
     "data": {
      "text/html": [
       "<div>\n",
       "<style scoped>\n",
       "    .dataframe tbody tr th:only-of-type {\n",
       "        vertical-align: middle;\n",
       "    }\n",
       "\n",
       "    .dataframe tbody tr th {\n",
       "        vertical-align: top;\n",
       "    }\n",
       "\n",
       "    .dataframe thead th {\n",
       "        text-align: right;\n",
       "    }\n",
       "</style>\n",
       "<table border=\"1\" class=\"dataframe\">\n",
       "  <thead>\n",
       "    <tr style=\"text-align: right;\">\n",
       "      <th></th>\n",
       "      <th>0</th>\n",
       "      <th>1</th>\n",
       "    </tr>\n",
       "  </thead>\n",
       "  <tbody>\n",
       "    <tr>\n",
       "      <th>0</th>\n",
       "      <td>-0.349596</td>\n",
       "      <td>-2.017159</td>\n",
       "    </tr>\n",
       "    <tr>\n",
       "      <th>1</th>\n",
       "      <td>0.000000</td>\n",
       "      <td>0.000000</td>\n",
       "    </tr>\n",
       "    <tr>\n",
       "      <th>2</th>\n",
       "      <td>0.000000</td>\n",
       "      <td>0.000000</td>\n",
       "    </tr>\n",
       "    <tr>\n",
       "      <th>3</th>\n",
       "      <td>0.113889</td>\n",
       "      <td>0.616122</td>\n",
       "    </tr>\n",
       "    <tr>\n",
       "      <th>4</th>\n",
       "      <td>0.014707</td>\n",
       "      <td>-1.731660</td>\n",
       "    </tr>\n",
       "    <tr>\n",
       "      <th>5</th>\n",
       "      <td>0.000000</td>\n",
       "      <td>0.000000</td>\n",
       "    </tr>\n",
       "    <tr>\n",
       "      <th>6</th>\n",
       "      <td>1.233087</td>\n",
       "      <td>0.720138</td>\n",
       "    </tr>\n",
       "    <tr>\n",
       "      <th>7</th>\n",
       "      <td>0.000000</td>\n",
       "      <td>0.000000</td>\n",
       "    </tr>\n",
       "    <tr>\n",
       "      <th>8</th>\n",
       "      <td>0.000000</td>\n",
       "      <td>0.000000</td>\n",
       "    </tr>\n",
       "    <tr>\n",
       "      <th>9</th>\n",
       "      <td>0.000000</td>\n",
       "      <td>0.000000</td>\n",
       "    </tr>\n",
       "  </tbody>\n",
       "</table>\n",
       "</div>"
      ],
      "text/plain": [
       "          0         1\n",
       "0 -0.349596 -2.017159\n",
       "1  0.000000  0.000000\n",
       "2  0.000000  0.000000\n",
       "3  0.113889  0.616122\n",
       "4  0.014707 -1.731660\n",
       "5  0.000000  0.000000\n",
       "6  1.233087  0.720138\n",
       "7  0.000000  0.000000\n",
       "8  0.000000  0.000000\n",
       "9  0.000000  0.000000"
      ]
     },
     "execution_count": 11,
     "metadata": {},
     "output_type": "execute_result"
    }
   ],
   "source": [
    "df = df.replace(9999.0,0)\n",
    "df"
   ]
  },
  {
   "cell_type": "code",
   "execution_count": 12,
   "id": "172a15fe-01ed-4190-859b-c330d1502aa7",
   "metadata": {},
   "outputs": [],
   "source": [
    "data = np.array([[np.NaN, np.NaN, -0.335410 ],\n",
    " [np.NaN,np.NaN, 0.685743],\n",
    " [0.077005, 0.085073,0.565144],\n",
    " [0.394961, -1.829587,0.494039 ],\n",
    " [1.486227,  -0.480726, -0.127278],\n",
    " [np.NaN, np.NaN, -0.047668],\n",
    " [np.NaN, np.NaN, -1.504804],\n",
    " [-0.530518,  -0.881817,-2.687352],\n",
    " [0.825376, 1.042468, -0.311527],\n",
    " [0.097617, 1.373572, -0.682435]])"
   ]
  },
  {
   "cell_type": "code",
   "execution_count": 13,
   "id": "46a7196d-47e6-4e2d-9845-31daf7be318c",
   "metadata": {},
   "outputs": [],
   "source": [
    "df = pd.DataFrame(data)"
   ]
  },
  {
   "cell_type": "code",
   "execution_count": 14,
   "id": "758a0618-54ec-4a38-8db2-e3890117862e",
   "metadata": {},
   "outputs": [
    {
     "data": {
      "text/html": [
       "<div>\n",
       "<style scoped>\n",
       "    .dataframe tbody tr th:only-of-type {\n",
       "        vertical-align: middle;\n",
       "    }\n",
       "\n",
       "    .dataframe tbody tr th {\n",
       "        vertical-align: top;\n",
       "    }\n",
       "\n",
       "    .dataframe thead th {\n",
       "        text-align: right;\n",
       "    }\n",
       "</style>\n",
       "<table border=\"1\" class=\"dataframe\">\n",
       "  <thead>\n",
       "    <tr style=\"text-align: right;\">\n",
       "      <th></th>\n",
       "      <th>0</th>\n",
       "      <th>1</th>\n",
       "      <th>2</th>\n",
       "    </tr>\n",
       "  </thead>\n",
       "  <tbody>\n",
       "    <tr>\n",
       "      <th>0</th>\n",
       "      <td>NaN</td>\n",
       "      <td>NaN</td>\n",
       "      <td>-0.335410</td>\n",
       "    </tr>\n",
       "    <tr>\n",
       "      <th>1</th>\n",
       "      <td>NaN</td>\n",
       "      <td>NaN</td>\n",
       "      <td>0.685743</td>\n",
       "    </tr>\n",
       "    <tr>\n",
       "      <th>2</th>\n",
       "      <td>0.077005</td>\n",
       "      <td>0.085073</td>\n",
       "      <td>0.565144</td>\n",
       "    </tr>\n",
       "    <tr>\n",
       "      <th>3</th>\n",
       "      <td>0.394961</td>\n",
       "      <td>-1.829587</td>\n",
       "      <td>0.494039</td>\n",
       "    </tr>\n",
       "    <tr>\n",
       "      <th>4</th>\n",
       "      <td>1.486227</td>\n",
       "      <td>-0.480726</td>\n",
       "      <td>-0.127278</td>\n",
       "    </tr>\n",
       "    <tr>\n",
       "      <th>5</th>\n",
       "      <td>NaN</td>\n",
       "      <td>NaN</td>\n",
       "      <td>-0.047668</td>\n",
       "    </tr>\n",
       "    <tr>\n",
       "      <th>6</th>\n",
       "      <td>NaN</td>\n",
       "      <td>NaN</td>\n",
       "      <td>-1.504804</td>\n",
       "    </tr>\n",
       "    <tr>\n",
       "      <th>7</th>\n",
       "      <td>-0.530518</td>\n",
       "      <td>-0.881817</td>\n",
       "      <td>-2.687352</td>\n",
       "    </tr>\n",
       "    <tr>\n",
       "      <th>8</th>\n",
       "      <td>0.825376</td>\n",
       "      <td>1.042468</td>\n",
       "      <td>-0.311527</td>\n",
       "    </tr>\n",
       "    <tr>\n",
       "      <th>9</th>\n",
       "      <td>0.097617</td>\n",
       "      <td>1.373572</td>\n",
       "      <td>-0.682435</td>\n",
       "    </tr>\n",
       "  </tbody>\n",
       "</table>\n",
       "</div>"
      ],
      "text/plain": [
       "          0         1         2\n",
       "0       NaN       NaN -0.335410\n",
       "1       NaN       NaN  0.685743\n",
       "2  0.077005  0.085073  0.565144\n",
       "3  0.394961 -1.829587  0.494039\n",
       "4  1.486227 -0.480726 -0.127278\n",
       "5       NaN       NaN -0.047668\n",
       "6       NaN       NaN -1.504804\n",
       "7 -0.530518 -0.881817 -2.687352\n",
       "8  0.825376  1.042468 -0.311527\n",
       "9  0.097617  1.373572 -0.682435"
      ]
     },
     "execution_count": 14,
     "metadata": {},
     "output_type": "execute_result"
    }
   ],
   "source": [
    "df"
   ]
  },
  {
   "cell_type": "code",
   "execution_count": 15,
   "id": "7a2080d3-ad0c-4706-8885-fa11b0eb6db9",
   "metadata": {},
   "outputs": [
    {
     "data": {
      "text/html": [
       "<div>\n",
       "<style scoped>\n",
       "    .dataframe tbody tr th:only-of-type {\n",
       "        vertical-align: middle;\n",
       "    }\n",
       "\n",
       "    .dataframe tbody tr th {\n",
       "        vertical-align: top;\n",
       "    }\n",
       "\n",
       "    .dataframe thead th {\n",
       "        text-align: right;\n",
       "    }\n",
       "</style>\n",
       "<table border=\"1\" class=\"dataframe\">\n",
       "  <thead>\n",
       "    <tr style=\"text-align: right;\">\n",
       "      <th></th>\n",
       "      <th>0</th>\n",
       "      <th>1</th>\n",
       "      <th>2</th>\n",
       "    </tr>\n",
       "  </thead>\n",
       "  <tbody>\n",
       "    <tr>\n",
       "      <th>2</th>\n",
       "      <td>0.077005</td>\n",
       "      <td>0.085073</td>\n",
       "      <td>0.565144</td>\n",
       "    </tr>\n",
       "    <tr>\n",
       "      <th>3</th>\n",
       "      <td>0.394961</td>\n",
       "      <td>-1.829587</td>\n",
       "      <td>0.494039</td>\n",
       "    </tr>\n",
       "    <tr>\n",
       "      <th>4</th>\n",
       "      <td>1.486227</td>\n",
       "      <td>-0.480726</td>\n",
       "      <td>-0.127278</td>\n",
       "    </tr>\n",
       "    <tr>\n",
       "      <th>7</th>\n",
       "      <td>-0.530518</td>\n",
       "      <td>-0.881817</td>\n",
       "      <td>-2.687352</td>\n",
       "    </tr>\n",
       "    <tr>\n",
       "      <th>8</th>\n",
       "      <td>0.825376</td>\n",
       "      <td>1.042468</td>\n",
       "      <td>-0.311527</td>\n",
       "    </tr>\n",
       "    <tr>\n",
       "      <th>9</th>\n",
       "      <td>0.097617</td>\n",
       "      <td>1.373572</td>\n",
       "      <td>-0.682435</td>\n",
       "    </tr>\n",
       "  </tbody>\n",
       "</table>\n",
       "</div>"
      ],
      "text/plain": [
       "          0         1         2\n",
       "2  0.077005  0.085073  0.565144\n",
       "3  0.394961 -1.829587  0.494039\n",
       "4  1.486227 -0.480726 -0.127278\n",
       "7 -0.530518 -0.881817 -2.687352\n",
       "8  0.825376  1.042468 -0.311527\n",
       "9  0.097617  1.373572 -0.682435"
      ]
     },
     "execution_count": 15,
     "metadata": {},
     "output_type": "execute_result"
    }
   ],
   "source": [
    "df.dropna(axis=0)"
   ]
  },
  {
   "cell_type": "code",
   "execution_count": 16,
   "id": "19510208-a93e-4208-8b28-80ea3fef3c29",
   "metadata": {},
   "outputs": [
    {
     "data": {
      "text/html": [
       "<div>\n",
       "<style scoped>\n",
       "    .dataframe tbody tr th:only-of-type {\n",
       "        vertical-align: middle;\n",
       "    }\n",
       "\n",
       "    .dataframe tbody tr th {\n",
       "        vertical-align: top;\n",
       "    }\n",
       "\n",
       "    .dataframe thead th {\n",
       "        text-align: right;\n",
       "    }\n",
       "</style>\n",
       "<table border=\"1\" class=\"dataframe\">\n",
       "  <thead>\n",
       "    <tr style=\"text-align: right;\">\n",
       "      <th></th>\n",
       "      <th>2</th>\n",
       "    </tr>\n",
       "  </thead>\n",
       "  <tbody>\n",
       "    <tr>\n",
       "      <th>0</th>\n",
       "      <td>-0.335410</td>\n",
       "    </tr>\n",
       "    <tr>\n",
       "      <th>1</th>\n",
       "      <td>0.685743</td>\n",
       "    </tr>\n",
       "    <tr>\n",
       "      <th>2</th>\n",
       "      <td>0.565144</td>\n",
       "    </tr>\n",
       "    <tr>\n",
       "      <th>3</th>\n",
       "      <td>0.494039</td>\n",
       "    </tr>\n",
       "    <tr>\n",
       "      <th>4</th>\n",
       "      <td>-0.127278</td>\n",
       "    </tr>\n",
       "    <tr>\n",
       "      <th>5</th>\n",
       "      <td>-0.047668</td>\n",
       "    </tr>\n",
       "    <tr>\n",
       "      <th>6</th>\n",
       "      <td>-1.504804</td>\n",
       "    </tr>\n",
       "    <tr>\n",
       "      <th>7</th>\n",
       "      <td>-2.687352</td>\n",
       "    </tr>\n",
       "    <tr>\n",
       "      <th>8</th>\n",
       "      <td>-0.311527</td>\n",
       "    </tr>\n",
       "    <tr>\n",
       "      <th>9</th>\n",
       "      <td>-0.682435</td>\n",
       "    </tr>\n",
       "  </tbody>\n",
       "</table>\n",
       "</div>"
      ],
      "text/plain": [
       "          2\n",
       "0 -0.335410\n",
       "1  0.685743\n",
       "2  0.565144\n",
       "3  0.494039\n",
       "4 -0.127278\n",
       "5 -0.047668\n",
       "6 -1.504804\n",
       "7 -2.687352\n",
       "8 -0.311527\n",
       "9 -0.682435"
      ]
     },
     "execution_count": 16,
     "metadata": {},
     "output_type": "execute_result"
    }
   ],
   "source": [
    "df.dropna(axis=1)"
   ]
  },
  {
   "cell_type": "markdown",
   "id": "48a534cc-2d75-4f70-b663-67379a492ba6",
   "metadata": {},
   "source": [
    "Data Visualization"
   ]
  },
  {
   "cell_type": "code",
   "execution_count": 17,
   "id": "73609371-2a2e-4f36-a664-1af293924812",
   "metadata": {},
   "outputs": [],
   "source": [
    "data = np.array([[-0.260156, -1.666998, -0.492616 ],\n",
    " [-0.762055, -1.114774, 0.396817],\n",
    " [-1.263953, -0.562550, -1.670459],\n",
    " [-0.765183, -0.619429, 0.316981 ],\n",
    " [-0.165719,  -0.678431, 0.485722],\n",
    " [-1.243191, 0.494006, 0.145171],\n",
    " [0.373786, -0.769120, -0.929956],\n",
    " [-0.081455, 0.229613, -2.251816],\n",
    " [-0.536697, 1.228345, -1.040728],\n",
    " [0.254220, -0.021794, 1.268333]])"
   ]
  },
  {
   "cell_type": "code",
   "execution_count": 18,
   "id": "71ea727f-efa1-4a7f-bbc2-894501c4f860",
   "metadata": {},
   "outputs": [],
   "source": [
    "df = pd.DataFrame(data)"
   ]
  },
  {
   "cell_type": "code",
   "execution_count": 19,
   "id": "fcde6cd9-86c4-4d02-b504-0bff0af7100f",
   "metadata": {},
   "outputs": [
    {
     "data": {
      "text/html": [
       "<div>\n",
       "<style scoped>\n",
       "    .dataframe tbody tr th:only-of-type {\n",
       "        vertical-align: middle;\n",
       "    }\n",
       "\n",
       "    .dataframe tbody tr th {\n",
       "        vertical-align: top;\n",
       "    }\n",
       "\n",
       "    .dataframe thead th {\n",
       "        text-align: right;\n",
       "    }\n",
       "</style>\n",
       "<table border=\"1\" class=\"dataframe\">\n",
       "  <thead>\n",
       "    <tr style=\"text-align: right;\">\n",
       "      <th></th>\n",
       "      <th>0</th>\n",
       "      <th>1</th>\n",
       "      <th>2</th>\n",
       "    </tr>\n",
       "  </thead>\n",
       "  <tbody>\n",
       "    <tr>\n",
       "      <th>0</th>\n",
       "      <td>-0.260156</td>\n",
       "      <td>-1.666998</td>\n",
       "      <td>-0.492616</td>\n",
       "    </tr>\n",
       "    <tr>\n",
       "      <th>1</th>\n",
       "      <td>-0.762055</td>\n",
       "      <td>-1.114774</td>\n",
       "      <td>0.396817</td>\n",
       "    </tr>\n",
       "    <tr>\n",
       "      <th>2</th>\n",
       "      <td>-1.263953</td>\n",
       "      <td>-0.562550</td>\n",
       "      <td>-1.670459</td>\n",
       "    </tr>\n",
       "    <tr>\n",
       "      <th>3</th>\n",
       "      <td>-0.765183</td>\n",
       "      <td>-0.619429</td>\n",
       "      <td>0.316981</td>\n",
       "    </tr>\n",
       "    <tr>\n",
       "      <th>4</th>\n",
       "      <td>-0.165719</td>\n",
       "      <td>-0.678431</td>\n",
       "      <td>0.485722</td>\n",
       "    </tr>\n",
       "    <tr>\n",
       "      <th>5</th>\n",
       "      <td>-1.243191</td>\n",
       "      <td>0.494006</td>\n",
       "      <td>0.145171</td>\n",
       "    </tr>\n",
       "    <tr>\n",
       "      <th>6</th>\n",
       "      <td>0.373786</td>\n",
       "      <td>-0.769120</td>\n",
       "      <td>-0.929956</td>\n",
       "    </tr>\n",
       "    <tr>\n",
       "      <th>7</th>\n",
       "      <td>-0.081455</td>\n",
       "      <td>0.229613</td>\n",
       "      <td>-2.251816</td>\n",
       "    </tr>\n",
       "    <tr>\n",
       "      <th>8</th>\n",
       "      <td>-0.536697</td>\n",
       "      <td>1.228345</td>\n",
       "      <td>-1.040728</td>\n",
       "    </tr>\n",
       "    <tr>\n",
       "      <th>9</th>\n",
       "      <td>0.254220</td>\n",
       "      <td>-0.021794</td>\n",
       "      <td>1.268333</td>\n",
       "    </tr>\n",
       "  </tbody>\n",
       "</table>\n",
       "</div>"
      ],
      "text/plain": [
       "          0         1         2\n",
       "0 -0.260156 -1.666998 -0.492616\n",
       "1 -0.762055 -1.114774  0.396817\n",
       "2 -1.263953 -0.562550 -1.670459\n",
       "3 -0.765183 -0.619429  0.316981\n",
       "4 -0.165719 -0.678431  0.485722\n",
       "5 -1.243191  0.494006  0.145171\n",
       "6  0.373786 -0.769120 -0.929956\n",
       "7 -0.081455  0.229613 -2.251816\n",
       "8 -0.536697  1.228345 -1.040728\n",
       "9  0.254220 -0.021794  1.268333"
      ]
     },
     "execution_count": 19,
     "metadata": {},
     "output_type": "execute_result"
    }
   ],
   "source": [
    "df"
   ]
  },
  {
   "cell_type": "code",
   "execution_count": 20,
   "id": "dfb51e49-3d91-49c1-8b1a-2f62da4defad",
   "metadata": {},
   "outputs": [
    {
     "data": {
      "text/plain": [
       "<Axes: >"
      ]
     },
     "execution_count": 20,
     "metadata": {},
     "output_type": "execute_result"
    },
    {
     "data": {
      "image/png": "[encoded data removed]",
      "text/plain": [
       "<Figure size 640x480 with 1 Axes>"
      ]
     },
     "metadata": {},
     "output_type": "display_data"
    }
   ],
   "source": [
    "df.plot.bar()"
   ]
  },
  {
   "cell_type": "code",
   "execution_count": 21,
   "id": "635a96f0-41b4-461d-adb8-53323ef71790",
   "metadata": {},
   "outputs": [
    {
     "data": {
      "text/plain": [
       "<Axes: >"
      ]
     },
     "execution_count": 21,
     "metadata": {},
     "output_type": "execute_result"
    },
    {
     "data": {
      "image/png": "[encoded data removed]",
      "text/plain": [
       "<Figure size 640x480 with 1 Axes>"
      ]
     },
     "metadata": {},
     "output_type": "display_data"
    }
   ],
   "source": [
    "df.plot.box()"
   ]
  },
  {
   "cell_type": "code",
   "execution_count": 22,
   "id": "987cb334-94b2-4b9f-af0a-141bc874091f",
   "metadata": {},
   "outputs": [
    {
     "data": {
      "text/plain": [
       "<Axes: >"
      ]
     },
     "execution_count": 22,
     "metadata": {},
     "output_type": "execute_result"
    },
    {
     "data": {
      "image/png": "[encoded data removed]",
      "text/plain": [
       "<Figure size 640x480 with 1 Axes>"
      ]
     },
     "metadata": {},
     "output_type": "display_data"
    }
   ],
   "source": [
    "df.plot()"
   ]
  },
  {
   "cell_type": "code",
   "execution_count": 23,
   "id": "6a399cde-70e3-4a86-b40f-1e71ddef089f",
   "metadata": {},
   "outputs": [
    {
     "data": {
      "text/html": [
       "<div>\n",
       "<style scoped>\n",
       "    .dataframe tbody tr th:only-of-type {\n",
       "        vertical-align: middle;\n",
       "    }\n",
       "\n",
       "    .dataframe tbody tr th {\n",
       "        vertical-align: top;\n",
       "    }\n",
       "\n",
       "    .dataframe thead th {\n",
       "        text-align: right;\n",
       "    }\n",
       "</style>\n",
       "<table border=\"1\" class=\"dataframe\">\n",
       "  <thead>\n",
       "    <tr style=\"text-align: right;\">\n",
       "      <th></th>\n",
       "      <th>sensor1</th>\n",
       "      <th>sensor2</th>\n",
       "      <th>sensor3</th>\n",
       "    </tr>\n",
       "  </thead>\n",
       "  <tbody>\n",
       "    <tr>\n",
       "      <th>0</th>\n",
       "      <td>-0.260156</td>\n",
       "      <td>-1.666998</td>\n",
       "      <td>-0.492616</td>\n",
       "    </tr>\n",
       "    <tr>\n",
       "      <th>1</th>\n",
       "      <td>-0.762055</td>\n",
       "      <td>-1.114774</td>\n",
       "      <td>0.396817</td>\n",
       "    </tr>\n",
       "    <tr>\n",
       "      <th>2</th>\n",
       "      <td>-1.263953</td>\n",
       "      <td>-0.562550</td>\n",
       "      <td>-1.670459</td>\n",
       "    </tr>\n",
       "    <tr>\n",
       "      <th>3</th>\n",
       "      <td>-0.765183</td>\n",
       "      <td>-0.619429</td>\n",
       "      <td>0.316981</td>\n",
       "    </tr>\n",
       "    <tr>\n",
       "      <th>4</th>\n",
       "      <td>-0.165719</td>\n",
       "      <td>-0.678431</td>\n",
       "      <td>0.485722</td>\n",
       "    </tr>\n",
       "    <tr>\n",
       "      <th>5</th>\n",
       "      <td>-1.243191</td>\n",
       "      <td>0.494006</td>\n",
       "      <td>0.145171</td>\n",
       "    </tr>\n",
       "    <tr>\n",
       "      <th>6</th>\n",
       "      <td>0.373786</td>\n",
       "      <td>-0.769120</td>\n",
       "      <td>-0.929956</td>\n",
       "    </tr>\n",
       "    <tr>\n",
       "      <th>7</th>\n",
       "      <td>-0.081455</td>\n",
       "      <td>0.229613</td>\n",
       "      <td>-2.251816</td>\n",
       "    </tr>\n",
       "    <tr>\n",
       "      <th>8</th>\n",
       "      <td>-0.536697</td>\n",
       "      <td>1.228345</td>\n",
       "      <td>-1.040728</td>\n",
       "    </tr>\n",
       "    <tr>\n",
       "      <th>9</th>\n",
       "      <td>0.254220</td>\n",
       "      <td>-0.021794</td>\n",
       "      <td>1.268333</td>\n",
       "    </tr>\n",
       "  </tbody>\n",
       "</table>\n",
       "</div>"
      ],
      "text/plain": [
       "    sensor1   sensor2   sensor3\n",
       "0 -0.260156 -1.666998 -0.492616\n",
       "1 -0.762055 -1.114774  0.396817\n",
       "2 -1.263953 -0.562550 -1.670459\n",
       "3 -0.765183 -0.619429  0.316981\n",
       "4 -0.165719 -0.678431  0.485722\n",
       "5 -1.243191  0.494006  0.145171\n",
       "6  0.373786 -0.769120 -0.929956\n",
       "7 -0.081455  0.229613 -2.251816\n",
       "8 -0.536697  1.228345 -1.040728\n",
       "9  0.254220 -0.021794  1.268333"
      ]
     },
     "execution_count": 23,
     "metadata": {},
     "output_type": "execute_result"
    }
   ],
   "source": [
    "sensor_data = np.array([[-0.260156, -1.666998, -0.492616 ],\n",
    " [-0.762055, -1.114774, 0.396817],\n",
    " [-1.263953, -0.562550, -1.670459],\n",
    " [-0.765183, -0.619429, 0.316981 ],\n",
    " [-0.165719,  -0.678431, 0.485722],\n",
    " [-1.243191, 0.494006, 0.145171],\n",
    " [0.373786, -0.769120, -0.929956],\n",
    " [-0.081455, 0.229613, -2.251816],\n",
    " [-0.536697, 1.228345, -1.040728],\n",
    " [0.254220, -0.021794, 1.268333]])\n",
    "df = pd.DataFrame(sensor_data, \n",
    "                  columns=['sensor1', 'sensor2', 'sensor3'])\n",
    "df"
   ]
  },
  {
   "cell_type": "code",
   "execution_count": 24,
   "id": "40a3103e-5ec5-4b3d-8bf6-6e687b8ab23d",
   "metadata": {},
   "outputs": [
    {
     "data": {
      "text/plain": [
       "0   -0.260156\n",
       "1   -0.762055\n",
       "2   -1.263953\n",
       "3   -0.765183\n",
       "4   -0.165719\n",
       "5   -1.243191\n",
       "6    0.373786\n",
       "7   -0.081455\n",
       "8   -0.536697\n",
       "9    0.254220\n",
       "Name: sensor1, dtype: float64"
      ]
     },
     "execution_count": 24,
     "metadata": {},
     "output_type": "execute_result"
    }
   ],
   "source": [
    "df['sensor1']"
   ]
  },
  {
   "cell_type": "code",
   "execution_count": 25,
   "id": "b6ccad66-b1ee-4998-a689-479a318ea868",
   "metadata": {},
   "outputs": [
    {
     "data": {
      "text/html": [
       "<div>\n",
       "<style scoped>\n",
       "    .dataframe tbody tr th:only-of-type {\n",
       "        vertical-align: middle;\n",
       "    }\n",
       "\n",
       "    .dataframe tbody tr th {\n",
       "        vertical-align: top;\n",
       "    }\n",
       "\n",
       "    .dataframe thead th {\n",
       "        text-align: right;\n",
       "    }\n",
       "</style>\n",
       "<table border=\"1\" class=\"dataframe\">\n",
       "  <thead>\n",
       "    <tr style=\"text-align: right;\">\n",
       "      <th></th>\n",
       "      <th>sensor1</th>\n",
       "      <th>sensor2</th>\n",
       "      <th>sensor3</th>\n",
       "    </tr>\n",
       "  </thead>\n",
       "  <tbody>\n",
       "    <tr>\n",
       "      <th>5</th>\n",
       "      <td>-1.243191</td>\n",
       "      <td>0.494006</td>\n",
       "      <td>0.145171</td>\n",
       "    </tr>\n",
       "    <tr>\n",
       "      <th>7</th>\n",
       "      <td>-0.081455</td>\n",
       "      <td>0.229613</td>\n",
       "      <td>-2.251816</td>\n",
       "    </tr>\n",
       "    <tr>\n",
       "      <th>8</th>\n",
       "      <td>-0.536697</td>\n",
       "      <td>1.228345</td>\n",
       "      <td>-1.040728</td>\n",
       "    </tr>\n",
       "  </tbody>\n",
       "</table>\n",
       "</div>"
      ],
      "text/plain": [
       "    sensor1   sensor2   sensor3\n",
       "5 -1.243191  0.494006  0.145171\n",
       "7 -0.081455  0.229613 -2.251816\n",
       "8 -0.536697  1.228345 -1.040728"
      ]
     },
     "execution_count": 25,
     "metadata": {},
     "output_type": "execute_result"
    }
   ],
   "source": [
    "df[df['sensor2'] > 0]"
   ]
  },
  {
   "cell_type": "code",
   "execution_count": 26,
   "id": "6d0c7aa6-fdda-4493-b89b-dddaa08991de",
   "metadata": {},
   "outputs": [
    {
     "data": {
      "text/html": [
       "<div>\n",
       "<style scoped>\n",
       "    .dataframe tbody tr th:only-of-type {\n",
       "        vertical-align: middle;\n",
       "    }\n",
       "\n",
       "    .dataframe tbody tr th {\n",
       "        vertical-align: top;\n",
       "    }\n",
       "\n",
       "    .dataframe thead th {\n",
       "        text-align: right;\n",
       "    }\n",
       "</style>\n",
       "<table border=\"1\" class=\"dataframe\">\n",
       "  <thead>\n",
       "    <tr style=\"text-align: right;\">\n",
       "      <th></th>\n",
       "      <th>sensor1</th>\n",
       "      <th>sensor2</th>\n",
       "      <th>sensor3</th>\n",
       "    </tr>\n",
       "  </thead>\n",
       "  <tbody>\n",
       "    <tr>\n",
       "      <th>0</th>\n",
       "      <td>-0.260156</td>\n",
       "      <td>-1.666998</td>\n",
       "      <td>-0.492616</td>\n",
       "    </tr>\n",
       "    <tr>\n",
       "      <th>1</th>\n",
       "      <td>-0.762055</td>\n",
       "      <td>-1.114774</td>\n",
       "      <td>0.396817</td>\n",
       "    </tr>\n",
       "    <tr>\n",
       "      <th>2</th>\n",
       "      <td>-1.263953</td>\n",
       "      <td>-0.562550</td>\n",
       "      <td>-1.670459</td>\n",
       "    </tr>\n",
       "    <tr>\n",
       "      <th>3</th>\n",
       "      <td>-0.765183</td>\n",
       "      <td>-0.619429</td>\n",
       "      <td>0.316981</td>\n",
       "    </tr>\n",
       "    <tr>\n",
       "      <th>4</th>\n",
       "      <td>-0.165719</td>\n",
       "      <td>-0.678431</td>\n",
       "      <td>0.485722</td>\n",
       "    </tr>\n",
       "    <tr>\n",
       "      <th>5</th>\n",
       "      <td>-1.243191</td>\n",
       "      <td>0.494006</td>\n",
       "      <td>0.145171</td>\n",
       "    </tr>\n",
       "    <tr>\n",
       "      <th>6</th>\n",
       "      <td>0.373786</td>\n",
       "      <td>-0.769120</td>\n",
       "      <td>-0.929956</td>\n",
       "    </tr>\n",
       "    <tr>\n",
       "      <th>7</th>\n",
       "      <td>-0.081455</td>\n",
       "      <td>0.229613</td>\n",
       "      <td>-2.251816</td>\n",
       "    </tr>\n",
       "    <tr>\n",
       "      <th>8</th>\n",
       "      <td>-0.536697</td>\n",
       "      <td>1.228345</td>\n",
       "      <td>-1.040728</td>\n",
       "    </tr>\n",
       "    <tr>\n",
       "      <th>9</th>\n",
       "      <td>0.254220</td>\n",
       "      <td>-0.021794</td>\n",
       "      <td>1.268333</td>\n",
       "    </tr>\n",
       "  </tbody>\n",
       "</table>\n",
       "</div>"
      ],
      "text/plain": [
       "    sensor1   sensor2   sensor3\n",
       "0 -0.260156 -1.666998 -0.492616\n",
       "1 -0.762055 -1.114774  0.396817\n",
       "2 -1.263953 -0.562550 -1.670459\n",
       "3 -0.765183 -0.619429  0.316981\n",
       "4 -0.165719 -0.678431  0.485722\n",
       "5 -1.243191  0.494006  0.145171\n",
       "6  0.373786 -0.769120 -0.929956\n",
       "7 -0.081455  0.229613 -2.251816\n",
       "8 -0.536697  1.228345 -1.040728\n",
       "9  0.254220 -0.021794  1.268333"
      ]
     },
     "execution_count": 26,
     "metadata": {},
     "output_type": "execute_result"
    }
   ],
   "source": [
    "df"
   ]
  },
  {
   "cell_type": "code",
   "execution_count": 27,
   "id": "6382dce9-60e3-4577-8af8-c50f5cc739a8",
   "metadata": {},
   "outputs": [
    {
     "data": {
      "text/html": [
       "<div>\n",
       "<style scoped>\n",
       "    .dataframe tbody tr th:only-of-type {\n",
       "        vertical-align: middle;\n",
       "    }\n",
       "\n",
       "    .dataframe tbody tr th {\n",
       "        vertical-align: top;\n",
       "    }\n",
       "\n",
       "    .dataframe thead th {\n",
       "        text-align: right;\n",
       "    }\n",
       "</style>\n",
       "<table border=\"1\" class=\"dataframe\">\n",
       "  <thead>\n",
       "    <tr style=\"text-align: right;\">\n",
       "      <th></th>\n",
       "      <th>sensor1</th>\n",
       "      <th>sensor2</th>\n",
       "      <th>sensor3</th>\n",
       "    </tr>\n",
       "  </thead>\n",
       "  <tbody>\n",
       "    <tr>\n",
       "      <th>0</th>\n",
       "      <td>-0.260156</td>\n",
       "      <td>-1.666998</td>\n",
       "      <td>-0.492616</td>\n",
       "    </tr>\n",
       "    <tr>\n",
       "      <th>1</th>\n",
       "      <td>-0.762055</td>\n",
       "      <td>-1.114774</td>\n",
       "      <td>0.396817</td>\n",
       "    </tr>\n",
       "    <tr>\n",
       "      <th>2</th>\n",
       "      <td>-1.263953</td>\n",
       "      <td>-0.562550</td>\n",
       "      <td>-1.670459</td>\n",
       "    </tr>\n",
       "    <tr>\n",
       "      <th>3</th>\n",
       "      <td>-0.765183</td>\n",
       "      <td>-0.619429</td>\n",
       "      <td>0.316981</td>\n",
       "    </tr>\n",
       "    <tr>\n",
       "      <th>4</th>\n",
       "      <td>-0.165719</td>\n",
       "      <td>-0.678431</td>\n",
       "      <td>0.485722</td>\n",
       "    </tr>\n",
       "    <tr>\n",
       "      <th>6</th>\n",
       "      <td>0.373786</td>\n",
       "      <td>-0.769120</td>\n",
       "      <td>-0.929956</td>\n",
       "    </tr>\n",
       "    <tr>\n",
       "      <th>7</th>\n",
       "      <td>-0.081455</td>\n",
       "      <td>0.229613</td>\n",
       "      <td>-2.251816</td>\n",
       "    </tr>\n",
       "    <tr>\n",
       "      <th>8</th>\n",
       "      <td>-0.536697</td>\n",
       "      <td>1.228345</td>\n",
       "      <td>-1.040728</td>\n",
       "    </tr>\n",
       "    <tr>\n",
       "      <th>9</th>\n",
       "      <td>0.254220</td>\n",
       "      <td>-0.021794</td>\n",
       "      <td>1.268333</td>\n",
       "    </tr>\n",
       "  </tbody>\n",
       "</table>\n",
       "</div>"
      ],
      "text/plain": [
       "    sensor1   sensor2   sensor3\n",
       "0 -0.260156 -1.666998 -0.492616\n",
       "1 -0.762055 -1.114774  0.396817\n",
       "2 -1.263953 -0.562550 -1.670459\n",
       "3 -0.765183 -0.619429  0.316981\n",
       "4 -0.165719 -0.678431  0.485722\n",
       "6  0.373786 -0.769120 -0.929956\n",
       "7 -0.081455  0.229613 -2.251816\n",
       "8 -0.536697  1.228345 -1.040728\n",
       "9  0.254220 -0.021794  1.268333"
      ]
     },
     "execution_count": 27,
     "metadata": {},
     "output_type": "execute_result"
    }
   ],
   "source": [
    "df.drop(df.index[[5]])"
   ]
  },
  {
   "cell_type": "code",
   "execution_count": 28,
   "id": "440de6de-ff1c-4404-b173-a4d788aa54de",
   "metadata": {},
   "outputs": [],
   "source": [
    "del df['sensor1']"
   ]
  },
  {
   "cell_type": "code",
   "execution_count": 29,
   "id": "1c996123-ab68-4d07-9832-35e8d3df52c5",
   "metadata": {},
   "outputs": [
    {
     "data": {
      "text/html": [
       "<div>\n",
       "<style scoped>\n",
       "    .dataframe tbody tr th:only-of-type {\n",
       "        vertical-align: middle;\n",
       "    }\n",
       "\n",
       "    .dataframe tbody tr th {\n",
       "        vertical-align: top;\n",
       "    }\n",
       "\n",
       "    .dataframe thead th {\n",
       "        text-align: right;\n",
       "    }\n",
       "</style>\n",
       "<table border=\"1\" class=\"dataframe\">\n",
       "  <thead>\n",
       "    <tr style=\"text-align: right;\">\n",
       "      <th></th>\n",
       "      <th>sensor2</th>\n",
       "      <th>sensor3</th>\n",
       "    </tr>\n",
       "  </thead>\n",
       "  <tbody>\n",
       "    <tr>\n",
       "      <th>0</th>\n",
       "      <td>-1.666998</td>\n",
       "      <td>-0.492616</td>\n",
       "    </tr>\n",
       "    <tr>\n",
       "      <th>1</th>\n",
       "      <td>-1.114774</td>\n",
       "      <td>0.396817</td>\n",
       "    </tr>\n",
       "    <tr>\n",
       "      <th>2</th>\n",
       "      <td>-0.562550</td>\n",
       "      <td>-1.670459</td>\n",
       "    </tr>\n",
       "    <tr>\n",
       "      <th>3</th>\n",
       "      <td>-0.619429</td>\n",
       "      <td>0.316981</td>\n",
       "    </tr>\n",
       "    <tr>\n",
       "      <th>4</th>\n",
       "      <td>-0.678431</td>\n",
       "      <td>0.485722</td>\n",
       "    </tr>\n",
       "    <tr>\n",
       "      <th>5</th>\n",
       "      <td>0.494006</td>\n",
       "      <td>0.145171</td>\n",
       "    </tr>\n",
       "    <tr>\n",
       "      <th>6</th>\n",
       "      <td>-0.769120</td>\n",
       "      <td>-0.929956</td>\n",
       "    </tr>\n",
       "    <tr>\n",
       "      <th>7</th>\n",
       "      <td>0.229613</td>\n",
       "      <td>-2.251816</td>\n",
       "    </tr>\n",
       "    <tr>\n",
       "      <th>8</th>\n",
       "      <td>1.228345</td>\n",
       "      <td>-1.040728</td>\n",
       "    </tr>\n",
       "    <tr>\n",
       "      <th>9</th>\n",
       "      <td>-0.021794</td>\n",
       "      <td>1.268333</td>\n",
       "    </tr>\n",
       "  </tbody>\n",
       "</table>\n",
       "</div>"
      ],
      "text/plain": [
       "    sensor2   sensor3\n",
       "0 -1.666998 -0.492616\n",
       "1 -1.114774  0.396817\n",
       "2 -0.562550 -1.670459\n",
       "3 -0.619429  0.316981\n",
       "4 -0.678431  0.485722\n",
       "5  0.494006  0.145171\n",
       "6 -0.769120 -0.929956\n",
       "7  0.229613 -2.251816\n",
       "8  1.228345 -1.040728\n",
       "9 -0.021794  1.268333"
      ]
     },
     "execution_count": 29,
     "metadata": {},
     "output_type": "execute_result"
    }
   ],
   "source": [
    "df"
   ]
  },
  {
   "cell_type": "markdown",
   "id": "b57785a2-21d0-408c-928d-bea9a04f7524",
   "metadata": {},
   "source": [
    "Merging DataFrames"
   ]
  },
  {
   "cell_type": "code",
   "execution_count": 30,
   "id": "5043d698-7dec-429f-a93a-58e807b5200b",
   "metadata": {},
   "outputs": [
    {
     "data": {
      "text/html": [
       "<div>\n",
       "<style scoped>\n",
       "    .dataframe tbody tr th:only-of-type {\n",
       "        vertical-align: middle;\n",
       "    }\n",
       "\n",
       "    .dataframe tbody tr th {\n",
       "        vertical-align: top;\n",
       "    }\n",
       "\n",
       "    .dataframe thead th {\n",
       "        text-align: right;\n",
       "    }\n",
       "</style>\n",
       "<table border=\"1\" class=\"dataframe\">\n",
       "  <thead>\n",
       "    <tr style=\"text-align: right;\">\n",
       "      <th></th>\n",
       "      <th>_key1</th>\n",
       "      <th>_key2</th>\n",
       "      <th>city</th>\n",
       "      <th>user_name</th>\n",
       "    </tr>\n",
       "  </thead>\n",
       "  <tbody>\n",
       "    <tr>\n",
       "      <th>0</th>\n",
       "      <td>K0</td>\n",
       "      <td>z0</td>\n",
       "      <td>city_0</td>\n",
       "      <td>user_0</td>\n",
       "    </tr>\n",
       "    <tr>\n",
       "      <th>1</th>\n",
       "      <td>K1</td>\n",
       "      <td>z1</td>\n",
       "      <td>city_1</td>\n",
       "      <td>user_1</td>\n",
       "    </tr>\n",
       "    <tr>\n",
       "      <th>2</th>\n",
       "      <td>K2</td>\n",
       "      <td>z2</td>\n",
       "      <td>city_2</td>\n",
       "      <td>user_2</td>\n",
       "    </tr>\n",
       "    <tr>\n",
       "      <th>3</th>\n",
       "      <td>K3</td>\n",
       "      <td>z3</td>\n",
       "      <td>city_3</td>\n",
       "      <td>user_3</td>\n",
       "    </tr>\n",
       "  </tbody>\n",
       "</table>\n",
       "</div>"
      ],
      "text/plain": [
       "  _key1 _key2    city user_name\n",
       "0    K0    z0  city_0    user_0\n",
       "1    K1    z1  city_1    user_1\n",
       "2    K2    z2  city_2    user_2\n",
       "3    K3    z3  city_3    user_3"
      ]
     },
     "execution_count": 30,
     "metadata": {},
     "output_type": "execute_result"
    }
   ],
   "source": [
    "data1 = {\"_key1\": ['K0', 'K1', 'K2', 'K3'], \"_key2\": ['z0', 'z1', 'z2', 'z3'],\"city\": ['city_0','city_1','city_2','city_3'], \"user_name\":\n",
    "       ['user_0','user_1','user_2','user_3']}\n",
    "\n",
    "data2 = {\"_key1\": ['K0', 'K1', 'K2', 'K3'], \"_key2\": ['z0', 'z1', 'z2', 'z3'],\"hire_date\": ['h_0','h_1','h_2','h_3'], \"profession\":\n",
    "       ['p_0','p_1','p_2','p_3']}\n",
    "\n",
    "left = pd.DataFrame(data1)\n",
    "left\n",
    "\n"
   ]
  },
  {
   "cell_type": "code",
   "execution_count": 31,
   "id": "b1a97c49-fd22-43b5-9f63-ed095f8fd2a1",
   "metadata": {},
   "outputs": [
    {
     "data": {
      "text/html": [
       "<div>\n",
       "<style scoped>\n",
       "    .dataframe tbody tr th:only-of-type {\n",
       "        vertical-align: middle;\n",
       "    }\n",
       "\n",
       "    .dataframe tbody tr th {\n",
       "        vertical-align: top;\n",
       "    }\n",
       "\n",
       "    .dataframe thead th {\n",
       "        text-align: right;\n",
       "    }\n",
       "</style>\n",
       "<table border=\"1\" class=\"dataframe\">\n",
       "  <thead>\n",
       "    <tr style=\"text-align: right;\">\n",
       "      <th></th>\n",
       "      <th>_key1</th>\n",
       "      <th>_key2</th>\n",
       "      <th>hire_date</th>\n",
       "      <th>profession</th>\n",
       "    </tr>\n",
       "  </thead>\n",
       "  <tbody>\n",
       "    <tr>\n",
       "      <th>0</th>\n",
       "      <td>K0</td>\n",
       "      <td>z0</td>\n",
       "      <td>h_0</td>\n",
       "      <td>p_0</td>\n",
       "    </tr>\n",
       "    <tr>\n",
       "      <th>1</th>\n",
       "      <td>K1</td>\n",
       "      <td>z1</td>\n",
       "      <td>h_1</td>\n",
       "      <td>p_1</td>\n",
       "    </tr>\n",
       "    <tr>\n",
       "      <th>2</th>\n",
       "      <td>K2</td>\n",
       "      <td>z2</td>\n",
       "      <td>h_2</td>\n",
       "      <td>p_2</td>\n",
       "    </tr>\n",
       "    <tr>\n",
       "      <th>3</th>\n",
       "      <td>K3</td>\n",
       "      <td>z3</td>\n",
       "      <td>h_3</td>\n",
       "      <td>p_3</td>\n",
       "    </tr>\n",
       "  </tbody>\n",
       "</table>\n",
       "</div>"
      ],
      "text/plain": [
       "  _key1 _key2 hire_date profession\n",
       "0    K0    z0       h_0        p_0\n",
       "1    K1    z1       h_1        p_1\n",
       "2    K2    z2       h_2        p_2\n",
       "3    K3    z3       h_3        p_3"
      ]
     },
     "execution_count": 31,
     "metadata": {},
     "output_type": "execute_result"
    }
   ],
   "source": [
    "right = pd.DataFrame(data2)\n",
    "right"
   ]
  },
  {
   "cell_type": "code",
   "execution_count": 32,
   "id": "1e9644fa-1734-4b1e-be82-44d54fa5e32b",
   "metadata": {},
   "outputs": [
    {
     "data": {
      "text/html": [
       "<div>\n",
       "<style scoped>\n",
       "    .dataframe tbody tr th:only-of-type {\n",
       "        vertical-align: middle;\n",
       "    }\n",
       "\n",
       "    .dataframe tbody tr th {\n",
       "        vertical-align: top;\n",
       "    }\n",
       "\n",
       "    .dataframe thead th {\n",
       "        text-align: right;\n",
       "    }\n",
       "</style>\n",
       "<table border=\"1\" class=\"dataframe\">\n",
       "  <thead>\n",
       "    <tr style=\"text-align: right;\">\n",
       "      <th></th>\n",
       "      <th>_key1</th>\n",
       "      <th>_key2</th>\n",
       "      <th>city</th>\n",
       "      <th>user_name</th>\n",
       "    </tr>\n",
       "  </thead>\n",
       "  <tbody>\n",
       "    <tr>\n",
       "      <th>0</th>\n",
       "      <td>K0</td>\n",
       "      <td>z0</td>\n",
       "      <td>city_0</td>\n",
       "      <td>user_0</td>\n",
       "    </tr>\n",
       "    <tr>\n",
       "      <th>1</th>\n",
       "      <td>K1</td>\n",
       "      <td>z1</td>\n",
       "      <td>city_1</td>\n",
       "      <td>user_1</td>\n",
       "    </tr>\n",
       "    <tr>\n",
       "      <th>2</th>\n",
       "      <td>K2</td>\n",
       "      <td>z2</td>\n",
       "      <td>city_2</td>\n",
       "      <td>user_2</td>\n",
       "    </tr>\n",
       "    <tr>\n",
       "      <th>3</th>\n",
       "      <td>K3</td>\n",
       "      <td>z3</td>\n",
       "      <td>city_3</td>\n",
       "      <td>user_3</td>\n",
       "    </tr>\n",
       "    <tr>\n",
       "      <th>0</th>\n",
       "      <td>K0</td>\n",
       "      <td>z0</td>\n",
       "      <td>city_0</td>\n",
       "      <td>user_0</td>\n",
       "    </tr>\n",
       "    <tr>\n",
       "      <th>1</th>\n",
       "      <td>K1</td>\n",
       "      <td>z1</td>\n",
       "      <td>city_1</td>\n",
       "      <td>user_1</td>\n",
       "    </tr>\n",
       "    <tr>\n",
       "      <th>2</th>\n",
       "      <td>K2</td>\n",
       "      <td>z2</td>\n",
       "      <td>city_2</td>\n",
       "      <td>user_2</td>\n",
       "    </tr>\n",
       "    <tr>\n",
       "      <th>3</th>\n",
       "      <td>K3</td>\n",
       "      <td>z3</td>\n",
       "      <td>city_3</td>\n",
       "      <td>user_3</td>\n",
       "    </tr>\n",
       "  </tbody>\n",
       "</table>\n",
       "</div>"
      ],
      "text/plain": [
       "  _key1 _key2    city user_name\n",
       "0    K0    z0  city_0    user_0\n",
       "1    K1    z1  city_1    user_1\n",
       "2    K2    z2  city_2    user_2\n",
       "3    K3    z3  city_3    user_3\n",
       "0    K0    z0  city_0    user_0\n",
       "1    K1    z1  city_1    user_1\n",
       "2    K2    z2  city_2    user_2\n",
       "3    K3    z3  city_3    user_3"
      ]
     },
     "execution_count": 32,
     "metadata": {},
     "output_type": "execute_result"
    }
   ],
   "source": [
    "pd.concat([left,left])"
   ]
  },
  {
   "cell_type": "code",
   "execution_count": 33,
   "id": "a9cb17dd-523e-44a2-a641-a2fcc7a18bdb",
   "metadata": {},
   "outputs": [
    {
     "data": {
      "text/html": [
       "<div>\n",
       "<style scoped>\n",
       "    .dataframe tbody tr th:only-of-type {\n",
       "        vertical-align: middle;\n",
       "    }\n",
       "\n",
       "    .dataframe tbody tr th {\n",
       "        vertical-align: top;\n",
       "    }\n",
       "\n",
       "    .dataframe thead th {\n",
       "        text-align: right;\n",
       "    }\n",
       "</style>\n",
       "<table border=\"1\" class=\"dataframe\">\n",
       "  <thead>\n",
       "    <tr style=\"text-align: right;\">\n",
       "      <th></th>\n",
       "      <th>_key1</th>\n",
       "      <th>_key2</th>\n",
       "      <th>city</th>\n",
       "      <th>user_name</th>\n",
       "      <th>hire_date</th>\n",
       "      <th>profession</th>\n",
       "    </tr>\n",
       "  </thead>\n",
       "  <tbody>\n",
       "    <tr>\n",
       "      <th>0</th>\n",
       "      <td>K0</td>\n",
       "      <td>z0</td>\n",
       "      <td>city_0</td>\n",
       "      <td>user_0</td>\n",
       "      <td>NaN</td>\n",
       "      <td>NaN</td>\n",
       "    </tr>\n",
       "    <tr>\n",
       "      <th>1</th>\n",
       "      <td>K1</td>\n",
       "      <td>z1</td>\n",
       "      <td>city_1</td>\n",
       "      <td>user_1</td>\n",
       "      <td>NaN</td>\n",
       "      <td>NaN</td>\n",
       "    </tr>\n",
       "    <tr>\n",
       "      <th>2</th>\n",
       "      <td>K2</td>\n",
       "      <td>z2</td>\n",
       "      <td>city_2</td>\n",
       "      <td>user_2</td>\n",
       "      <td>NaN</td>\n",
       "      <td>NaN</td>\n",
       "    </tr>\n",
       "    <tr>\n",
       "      <th>3</th>\n",
       "      <td>K3</td>\n",
       "      <td>z3</td>\n",
       "      <td>city_3</td>\n",
       "      <td>user_3</td>\n",
       "      <td>NaN</td>\n",
       "      <td>NaN</td>\n",
       "    </tr>\n",
       "    <tr>\n",
       "      <th>0</th>\n",
       "      <td>K0</td>\n",
       "      <td>z0</td>\n",
       "      <td>NaN</td>\n",
       "      <td>NaN</td>\n",
       "      <td>h_0</td>\n",
       "      <td>p_0</td>\n",
       "    </tr>\n",
       "    <tr>\n",
       "      <th>1</th>\n",
       "      <td>K1</td>\n",
       "      <td>z1</td>\n",
       "      <td>NaN</td>\n",
       "      <td>NaN</td>\n",
       "      <td>h_1</td>\n",
       "      <td>p_1</td>\n",
       "    </tr>\n",
       "    <tr>\n",
       "      <th>2</th>\n",
       "      <td>K2</td>\n",
       "      <td>z2</td>\n",
       "      <td>NaN</td>\n",
       "      <td>NaN</td>\n",
       "      <td>h_2</td>\n",
       "      <td>p_2</td>\n",
       "    </tr>\n",
       "    <tr>\n",
       "      <th>3</th>\n",
       "      <td>K3</td>\n",
       "      <td>z3</td>\n",
       "      <td>NaN</td>\n",
       "      <td>NaN</td>\n",
       "      <td>h_3</td>\n",
       "      <td>p_3</td>\n",
       "    </tr>\n",
       "  </tbody>\n",
       "</table>\n",
       "</div>"
      ],
      "text/plain": [
       "  _key1 _key2    city user_name hire_date profession\n",
       "0    K0    z0  city_0    user_0       NaN        NaN\n",
       "1    K1    z1  city_1    user_1       NaN        NaN\n",
       "2    K2    z2  city_2    user_2       NaN        NaN\n",
       "3    K3    z3  city_3    user_3       NaN        NaN\n",
       "0    K0    z0     NaN       NaN       h_0        p_0\n",
       "1    K1    z1     NaN       NaN       h_1        p_1\n",
       "2    K2    z2     NaN       NaN       h_2        p_2\n",
       "3    K3    z3     NaN       NaN       h_3        p_3"
      ]
     },
     "execution_count": 33,
     "metadata": {},
     "output_type": "execute_result"
    }
   ],
   "source": [
    "pd.concat([left,right])"
   ]
  },
  {
   "cell_type": "code",
   "execution_count": null,
   "id": "2d3afc73-80c2-42fa-9ea8-0a206dd8fb3f",
   "metadata": {},
   "outputs": [],
   "source": []
  },
  {
   "cell_type": "markdown",
   "id": "bbd24c26-b3b8-4661-b861-5370bf2c33f9",
   "metadata": {},
   "source": [
    "Matplotlib"
   ]
  },
  {
   "cell_type": "markdown",
   "id": "44576a75-da41-4e82-a7b8-0fe8507a3531",
   "metadata": {},
   "source": [
    "2D plotting single line figure"
   ]
  },
  {
   "cell_type": "code",
   "execution_count": 34,
   "id": "6de26f19-c5da-4a6c-91e4-1d251d44f443",
   "metadata": {},
   "outputs": [
    {
     "data": {
      "text/plain": [
       "array([0.        , 0.10526316, 0.21052632, 0.31578947, 0.42105263,\n",
       "       0.52631579, 0.63157895, 0.73684211, 0.84210526, 0.94736842,\n",
       "       1.05263158, 1.15789474, 1.26315789, 1.36842105, 1.47368421,\n",
       "       1.57894737, 1.68421053, 1.78947368, 1.89473684, 2.        ])"
      ]
     },
     "execution_count": 34,
     "metadata": {},
     "output_type": "execute_result"
    }
   ],
   "source": [
    "%matplotlib inline\n",
    "import numpy as np\n",
    "import matplotlib.pyplot as plt\n",
    "x = np.linspace(0.0, 2.0, 20)\n",
    "x"
   ]
  },
  {
   "cell_type": "code",
   "execution_count": 35,
   "id": "1633ac84-4fce-4274-9e2e-553a1bdc26b9",
   "metadata": {},
   "outputs": [
    {
     "data": {
      "image/png": "[encoded data removed]",
      "text/plain": [
       "<Figure size 640x480 with 1 Axes>"
      ]
     },
     "metadata": {},
     "output_type": "display_data"
    }
   ],
   "source": [
    "plt.plot(x, np.sqrt(x), 'ro')\n",
    "plt.show()"
   ]
  },
  {
   "cell_type": "code",
   "execution_count": 36,
   "id": "e6d49c5b-062b-4c75-80f5-90531e1bcf38",
   "metadata": {},
   "outputs": [
    {
     "data": {
      "image/png": "[encoded data removed]",
      "text/plain": [
       "<Figure size 640x480 with 1 Axes>"
      ]
     },
     "metadata": {},
     "output_type": "display_data"
    }
   ],
   "source": [
    "plt.plot(x, np.sqrt(x), 'b-')\n",
    "plt.show()"
   ]
  },
  {
   "cell_type": "markdown",
   "id": "56dbcb69-7736-44cb-a4cc-eacd420fe37d",
   "metadata": {},
   "source": [
    "Multiple lines on the same figure"
   ]
  },
  {
   "cell_type": "code",
   "execution_count": 37,
   "id": "757452c6-4861-4ec4-8fd2-521bd5c80007",
   "metadata": {},
   "outputs": [
    {
     "data": {
      "image/png": "[encoded data removed]",
      "text/plain": [
       "<Figure size 640x480 with 1 Axes>"
      ]
     },
     "metadata": {},
     "output_type": "display_data"
    }
   ],
   "source": [
    "plt.plot(x, x, 'g--', label='green') # green dashed line\n",
    "plt.plot(x, np.sqrt(x), 'ro', label='red') # red circles\n",
    "plt.plot(x, np.sqrt(x), 'b-', label='blue') # blue line\n",
    "plt.show()"
   ]
  },
  {
   "cell_type": "markdown",
   "id": "7c7c3748-6f04-44a4-b129-9a3c8b10a419",
   "metadata": {},
   "source": [
    "Multiple plots on the same figure"
   ]
  },
  {
   "cell_type": "code",
   "execution_count": 38,
   "id": "33183094-7704-494a-97d9-531a87a467f4",
   "metadata": {},
   "outputs": [
    {
     "data": {
      "image/png": "[encoded data removed]",
      "text/plain": [
       "<Figure size 640x480 with 2 Axes>"
      ]
     },
     "metadata": {},
     "output_type": "display_data"
    }
   ],
   "source": [
    "plt.subplot(1,2,1)\n",
    "plt.plot(x, x, 'g--')\n",
    "plt.subplot(1,2,2)\n",
    "plt.plot(x, np.sqrt(x), 'b-')\n",
    "plt.show()"
   ]
  },
  {
   "cell_type": "markdown",
   "id": "a548d1eb-46c5-468f-b9b0-dc842afb872c",
   "metadata": {},
   "source": [
    "Save a figure to a file"
   ]
  },
  {
   "cell_type": "code",
   "execution_count": 39,
   "id": "9dca3944-80a9-48f8-acf6-960538502f1f",
   "metadata": {},
   "outputs": [
    {
     "data": {
      "image/png": "[encoded data removed]",
      "text/plain": [
       "<Figure size 640x480 with 1 Axes>"
      ]
     },
     "metadata": {},
     "output_type": "display_data"
    }
   ],
   "source": [
    "plt.plot(x, np.sqrt(x), 'b-')\n",
    "\n",
    "plt.savefig('myfig.png') # can also save directly to pdf by just changing the file extension"
   ]
  },
  {
   "cell_type": "code",
   "execution_count": null,
   "id": "41b67deb-de76-4a57-ba50-88e7342291d5",
   "metadata": {},
   "outputs": [],
   "source": []
  }
 ],
 "metadata": {
  "kernelspec": {
   "display_name": "01-26-new",
   "language": "python",
   "name": "01-26-new"
  },
  "language_info": {
   "codemirror_mode": {
    "name": "ipython",
    "version": 3
   },
   "file_extension": ".py",
   "mimetype": "text/x-python",
   "name": "python",
   "nbconvert_exporter": "python",
   "pygments_lexer": "ipython3",
   "version": "3.12.1"
  }
 },
 "nbformat": 4,
 "nbformat_minor": 5
}
